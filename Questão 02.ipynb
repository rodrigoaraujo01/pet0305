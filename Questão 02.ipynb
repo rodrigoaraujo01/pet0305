{
 "cells": [
  {
   "cell_type": "markdown",
   "metadata": {},
   "source": [
    "# Questão 02"
   ]
  },
  {
   "cell_type": "markdown",
   "metadata": {},
   "source": [
    "## 1. Aprendizado supervisionado"
   ]
  },
  {
   "cell_type": "markdown",
   "metadata": {},
   "source": [
    "O método de aprendizado supervisionado baseia-se na utilização de um conjunto de pares $(x, y)$ com x pertencente ao conjunto de possíveis entradas da rede ($x \\in X$) e y sendo a resposta desejada da rede para aquela entrada ($y \\in Y$). O objetivo dos algoritmos supervisionados é aproximar a função $f : X \\rightarrow Y$."
   ]
  },
  {
   "cell_type": "markdown",
   "metadata": {},
   "source": [
    "![Classificação vs Regressão](img/sl_classification_vs_regression.png)"
   ]
  },
  {
   "cell_type": "markdown",
   "metadata": {},
   "source": [
    "### Principais aplicações\n",
    "\n",
    "- Reconhecimento de caligrafia;\n",
    "- Classificação de imagens;\n",
    "- Detecção de SPAM;\n",
    "- Regressão."
   ]
  },
  {
   "cell_type": "markdown",
   "metadata": {},
   "source": [
    "## 2. Aprendizado semi-supervisionado"
   ]
  },
  {
   "cell_type": "markdown",
   "metadata": {},
   "source": [
    "O aprendizado semi-supervisionado utiliza um pequeno conjunto de dados previamente classificados, mas inclui no treinamento um grande conjunto não classificado. Busca-se com isso obter uma performance superior a que seria obtida caso os algoritmos supervisonado e não-supervisionado fossem usados individualmente."
   ]
  },
  {
   "cell_type": "markdown",
   "metadata": {},
   "source": [
    "### Critérios para a sua utilização\n",
    "\n",
    "- Conjunto não classificado de tamanho considerável;\n",
    "- Simetria de proximidade entre entradas e saídas: para classificar os dados, o algoritmo assume que se duas entradas fazem parte do mesmo cluster, suas saídas também estarão próximas;\n",
    "- Classificação relativamente simples e problema de pequenas dimensões."
   ]
  },
  {
   "cell_type": "markdown",
   "metadata": {},
   "source": [
    "### Principais aplicações\n",
    "\n",
    "- Análise de fala: devido ao grande esforço humano necessário para a classificação prévia de arquivos de áudio;\n",
    "- Classificação de sequências proteicas: inferir a função de proteínas usualmente requer interação humana;\n",
    "- Classificação de conteúdo online com base nos assuntos tratados, como educacionais, esportes, jogos, notícias."
   ]
  },
  {
   "cell_type": "markdown",
   "metadata": {},
   "source": [
    "## 3. Aprendizado por reforço"
   ]
  },
  {
   "cell_type": "markdown",
   "metadata": {},
   "source": [
    "O aprendizado por reforço, também conhecido algoritmos orientados a metas, costuma ser utilizado na solução de problemas de tempo real com o objetivo de atingir uma meta complexa ou maximizar uma determinada função ao longo de diversas etapas.\n",
    "\n",
    "Uma vantagem importante desses algoritmos é sua capacidade de resolver o problema da correlação entre ações imediatas e retornos posteriores."
   ]
  },
  {
   "cell_type": "markdown",
   "metadata": {},
   "source": [
    "Neste algoritmo, o agente (_agent_) realiza ações ($a_t$) segundo uma política (_policy_) que provocam mudanças no estado $s$ de um determinado ambiente (_environment_). O novo estado $s_{t+1}$ e uma recompensa $r_{t+1}$ são retornados para o agente que em seguida toma novas ações.\n",
    "\n",
    "![Esquema de aprendizado por reforço](img/simple_rl_schema.png)\n",
    "\n",
    "O agente então é um sistema que transforma recompensas e estados em novas ações, enquanto o ambiente transforma ações tomadas em um dado estado em novos estados e recompensas. O objetivo do agente então torna-se modelar a função do ambiente de forma a otimizar sua função para que se obtenha as maiores recompensas."
   ]
  },
  {
   "cell_type": "markdown",
   "metadata": {},
   "source": [
    "### Principais aplicações\n",
    "\n",
    "- Veículos autopilotados;\n",
    "- Monitoramento de segurança;\n",
    "- Jogos."
   ]
  },
  {
   "cell_type": "markdown",
   "metadata": {},
   "source": [
    "## 4. Aprendizado não supervisionado"
   ]
  },
  {
   "cell_type": "markdown",
   "metadata": {},
   "source": [
    "No aprendizado supervisionado, um conjunto $x$ de dados é fornecido ao sistema para que esta calcule a função que define a estrutura ou distribuição das entradas. Visto que não há classificação prévia, não há métodos diretos para definição de sua eficácia."
   ]
  },
  {
   "cell_type": "markdown",
   "metadata": {},
   "source": [
    "### Subclassificação\n",
    "\n",
    "Os algoritmos não supervisionados podem ser classificados em dois grandes grupos:\n",
    "\n",
    "- Agrupamento: buscam descobrir agrupamentos inerentes aos dados, como agrupar consumidores com base no seu histórico de compras;\n",
    "- Associação: buscam encontrar regras que descrevam corretamente grandes grupos de dados, como verificar que consumidores que compram o produto X também compram o produto Y."
   ]
  },
  {
   "cell_type": "markdown",
   "metadata": {},
   "source": [
    "### Principais aplicações\n",
    "\n",
    "- Agrupamento de dados (clustering);\n",
    "- Redução de dimensionalidade;"
   ]
  },
  {
   "cell_type": "markdown",
   "metadata": {},
   "source": [
    "## 5. Referências\n",
    "\n",
    "[Supervised Learning](https://en.wikipedia.org/wiki/Supervised_learning)\n",
    "\n",
    "[Semi-supervised Learning](https://en.wikipedia.org/wiki/Semi-supervised_learning)\n",
    "\n",
    "[Understanding Semi-supervised Learning](https://medium.com/@jrodthoughts/understanding-semi-supervised-learning-a6437c070c87)\n",
    "\n",
    "[Unsupervised Learning](https://en.wikipedia.org/wiki/Unsupervised_learning)\n",
    "\n",
    "[Machine Learning for Humans, Part 3: Unsupervised Learning](https://medium.com/machine-learning-for-humans/unsupervised-learning-f45587588294)\n",
    "\n",
    "[A Beginner's Guide to Deep Reinforcement Learning](https://skymind.ai/wiki/deep-reinforcement-learning)\n",
    "\n",
    "[Supervised and Unsupervised Machine Learning Algorithms](https://machinelearningmastery.com/supervised-and-unsupervised-machine-learning-algorithms/)"
   ]
  }
 ],
 "metadata": {
  "kernelspec": {
   "display_name": "Python 3",
   "language": "python",
   "name": "python3"
  },
  "language_info": {
   "codemirror_mode": {
    "name": "ipython",
    "version": 3
   },
   "file_extension": ".py",
   "mimetype": "text/x-python",
   "name": "python",
   "nbconvert_exporter": "python",
   "pygments_lexer": "ipython3",
   "version": "3.7.0"
  }
 },
 "nbformat": 4,
 "nbformat_minor": 2
}
