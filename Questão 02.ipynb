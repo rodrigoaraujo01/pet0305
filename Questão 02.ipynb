{
 "cells": [
  {
   "cell_type": "markdown",
   "metadata": {},
   "source": [
    "# Questão 02"
   ]
  },
  {
   "cell_type": "markdown",
   "metadata": {},
   "source": [
    "## 1. Aprendizado supervisionado"
   ]
  },
  {
   "cell_type": "markdown",
   "metadata": {},
   "source": [
    "O método de aprendizado supervisionado baseia-se na utilização de um conjunto de pares $(x, y)$ com x pertencente ao conjunto de possíveis entradas da rede ($x \\in X$) e y, a resposta desejada da rede ($y \\in Y$). O objetivo então torna-se aproximar a função $f : X \\rightarrow Y$."
   ]
  },
  {
   "cell_type": "markdown",
   "metadata": {},
   "source": [
    "### Principais aplicações\n",
    "\n",
    "- Reconhecimento de padrões;\n",
    "- Regressão."
   ]
  },
  {
   "cell_type": "markdown",
   "metadata": {},
   "source": [
    "## 2. Aprendizado semi-supervisionado"
   ]
  },
  {
   "cell_type": "markdown",
   "metadata": {},
   "source": [
    "O aprendizado semi-supervisionado utiliza um pequeno conjunto de dados previamente classificado, mas inclui no treinamento um grande conjunto de dados não classificados. Busca-se com isso obter uma performance superior a que seria obtida caso os algoritmos supervisonado e não-supervisionado fosse usados individualmente."
   ]
  },
  {
   "cell_type": "markdown",
   "metadata": {},
   "source": [
    "### Critérios para a sua utilização\n",
    "\n",
    "- Conjunto não classificado de tamanho considerável;\n",
    "- Simetria de proximidade entre entradas e saídas: para classificar os dados, o algoritmo assume que se duas entradas fazem parte do mesmo cluster, suas saídas também estarão próximas;\n",
    "- Classificação relativamente simples e problema de pequenas dimensões."
   ]
  },
  {
   "cell_type": "markdown",
   "metadata": {},
   "source": [
    "### Principais aplicações\n",
    "\n",
    "- Análise de fala: devido ao grande esforço humano necessário para a classificação prévia de arquivos de áudio;\n",
    "- Classificação de sequências proteicas: inferir a função de proteínas usualmente requer interação humana;\n",
    "- Classificação de conteúdo online."
   ]
  },
  {
   "cell_type": "markdown",
   "metadata": {},
   "source": [
    "## 3. Aprendizado não supervisionado"
   ]
  },
  {
   "cell_type": "markdown",
   "metadata": {},
   "source": [
    "No aprendizado supervisionado, um conjunto $x$ de dados é fornecido à rede para que esta calcule a função que define a estrutura das entradas. Visto que não há classificação prévia, não há métodos diretos para definição de sua eficácia."
   ]
  },
  {
   "cell_type": "markdown",
   "metadata": {},
   "source": [
    "### Principais aplicações\n",
    "\n",
    "- Agrupamento de dados (clustering);\n",
    "- Redução de dimensionalidade;"
   ]
  },
  {
   "cell_type": "markdown",
   "metadata": {},
   "source": [
    "## 4. Aprendizado por reforço"
   ]
  },
  {
   "cell_type": "markdown",
   "metadata": {},
   "source": []
  },
  {
   "cell_type": "markdown",
   "metadata": {},
   "source": [
    "Referências\n",
    "\n",
    "[Supervised Learning](https://en.wikipedia.org/wiki/Supervised_learning)\n",
    "\n",
    "[Semi-supervised Learning](https://en.wikipedia.org/wiki/Semi-supervised_learning)\n",
    "\n",
    "[Understanding Semi-supervised Learning](https://medium.com/@jrodthoughts/understanding-semi-supervised-learning-a6437c070c87)\n",
    "\n",
    "[Unsupervised Learning](https://en.wikipedia.org/wiki/Unsupervised_learning)\n",
    "\n",
    "[Machine Learning for Humans, Part 3: Unsupervised Learning](https://medium.com/machine-learning-for-humans/unsupervised-learning-f45587588294)"
   ]
  }
 ],
 "metadata": {
  "kernelspec": {
   "display_name": "Python 3",
   "language": "python",
   "name": "python3"
  },
  "language_info": {
   "codemirror_mode": {
    "name": "ipython",
    "version": 3
   },
   "file_extension": ".py",
   "mimetype": "text/x-python",
   "name": "python",
   "nbconvert_exporter": "python",
   "pygments_lexer": "ipython3",
   "version": "3.7.0"
  }
 },
 "nbformat": 4,
 "nbformat_minor": 2
}
