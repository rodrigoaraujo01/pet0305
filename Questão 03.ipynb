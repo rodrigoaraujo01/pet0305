{
 "cells": [
  {
   "cell_type": "markdown",
   "metadata": {},
   "source": [
    "# Questão 03"
   ]
  },
  {
   "cell_type": "markdown",
   "metadata": {},
   "source": [
    "Matriz Hessiana: $\\textbf{H} (n) = \\sum\\limits_{k=1}^n\\textbf{g}(k)\\textbf{g}^t(k)$"
   ]
  },
  {
   "cell_type": "markdown",
   "metadata": {},
   "source": [
    "Vetor gradiente local: $\\textbf{g(w)} = \\frac{\\partial E(\\textbf{w})}{\\partial w}$"
   ]
  },
  {
   "cell_type": "markdown",
   "metadata": {},
   "source": [
    "### a) Demonstrar que $\\textbf{H}(n) = \\textbf{H}(n-1) + \\textbf{g}(n) \\textbf{g}^t(n)$"
   ]
  },
  {
   "cell_type": "markdown",
   "metadata": {},
   "source": [
    "$$\\textbf{H}(n) = \\sum\\limits_{k=1}^{n}\\textbf{g}(k)\\textbf{g}^t(k)$$"
   ]
  },
  {
   "cell_type": "markdown",
   "metadata": {},
   "source": [
    "$$\\textbf{H}(n) = \\textbf{g}(n)\\textbf{g}^t(n) + \\sum\\limits_{k=1}^{n-1}\\textbf{g}(k)\\textbf{g}^t(k)$$"
   ]
  },
  {
   "cell_type": "markdown",
   "metadata": {},
   "source": [
    "$$\\textbf{H}(n) = \\textbf{g}(n)\\textbf{g}^t(n) + \\textbf{H}(n-1)$$"
   ]
  },
  {
   "cell_type": "markdown",
   "metadata": {},
   "source": [
    "### b) Usar o lema da inversão matricial"
   ]
  },
  {
   "cell_type": "markdown",
   "metadata": {},
   "source": [
    "$$\\textbf{A}=\\textbf{B}^{-1}+\\textbf{CDC}^t$$"
   ]
  },
  {
   "cell_type": "markdown",
   "metadata": {},
   "source": [
    "$$\\textbf{A}^{-1}=\\textbf{B}-\\textbf{BC}(\\textbf{D} + \\textbf{C}^t\\textbf{BC})^{-1}\\textbf{C}^t\\textbf{B}$$"
   ]
  },
  {
   "cell_type": "markdown",
   "metadata": {},
   "source": [
    "Fazendo $H(n) = A$, $H(n-1)=B^{-1}$, $g(k)=C$ e $1=D$, obtém-se"
   ]
  },
  {
   "cell_type": "markdown",
   "metadata": {},
   "source": [
    "$$\\textbf{H}(n)=\\textbf{H}(n-1)+\\textbf{g}(n) \\textbf{1 g}^t(n)$$"
   ]
  },
  {
   "cell_type": "markdown",
   "metadata": {},
   "source": [
    "Essa expressão é idêntica àquela obtida no item a, dessa forma o lema da inversão matricial pode ser utilizado."
   ]
  },
  {
   "cell_type": "markdown",
   "metadata": {},
   "source": [
    "Como $\\textbf{H}(n-1) = \\textbf{B}^{-1}$, obtém-se que $\\textbf{H}^{-1}(n-1) = \\textbf{B}$"
   ]
  },
  {
   "cell_type": "markdown",
   "metadata": {},
   "source": [
    "$$\\textbf{H}^{-1}(n)=\\textbf{H}^{-1}(n-1)-\\textbf{H}^{-1}(n-1)\\textbf{g}(n)(1 + \\textbf{g}^t(n) \\textbf{H}^{-1}(n-1) \\textbf{g}(k))^{-1}\\textbf{g}^t(n)\\textbf{H}^{-1}(n-1)$$"
   ]
  },
  {
   "cell_type": "markdown",
   "metadata": {},
   "source": [
    "$$\\textbf{H}^{-1}(n)=\\textbf{H}^{-1}(n-1)-\\frac{\\textbf{H}^{-1}(n-1)\\textbf{g}(n)\\textbf{g}(n)^{-1}\\textbf{g}^t(n)\\textbf{H}^{-1}(n-1)}{(1 + \\textbf{g}^t(n) \\textbf{H}^{-1}(n-1) }$$"
   ]
  },
  {
   "cell_type": "markdown",
   "metadata": {},
   "source": [
    "### Referências\n",
    "\n",
    "[Citação do Haykin](https://books.google.com.br/books?id=bhMwDwAAQBAJ&pg=PA251&lpg=PA251&dq=%22lema+da+invers%C3%A3o+matricial%22&source=bl&ots=07tpPMOVIw&sig=JQKjPV425hriExHtuwkg2813tCY&hl=pt-BR&sa=X&ved=2ahUKEwjC_crArIHdAhVGQpAKHbdRCKMQ6AEwAHoECAEQAQ#v=onepage&q=%22lema%20da%20invers%C3%A3o%20matricial%22&f=false)"
   ]
  }
 ],
 "metadata": {
  "kernelspec": {
   "display_name": "Python 3",
   "language": "python",
   "name": "python3"
  },
  "language_info": {
   "codemirror_mode": {
    "name": "ipython",
    "version": 3
   },
   "file_extension": ".py",
   "mimetype": "text/x-python",
   "name": "python",
   "nbconvert_exporter": "python",
   "pygments_lexer": "ipython3",
   "version": "3.6.5"
  }
 },
 "nbformat": 4,
 "nbformat_minor": 2
}
